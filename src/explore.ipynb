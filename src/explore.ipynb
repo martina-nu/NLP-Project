{
 "cells": [
  {
   "cell_type": "markdown",
   "id": "bf1f35fa",
   "metadata": {},
   "source": [
    "# NLP Project"
   ]
  },
  {
   "cell_type": "code",
   "execution_count": 1,
   "id": "84eefaab",
   "metadata": {},
   "outputs": [
    {
     "name": "stdout",
     "output_type": "stream",
     "text": [
      "Collecting sqlalchemy==1.4.37\n",
      "  Using cached SQLAlchemy-1.4.37-cp38-cp38-manylinux_2_5_x86_64.manylinux1_x86_64.manylinux_2_17_x86_64.manylinux2014_x86_64.whl (1.6 MB)\n",
      "Collecting pymysql==1.0.2\n",
      "  Using cached PyMySQL-1.0.2-py3-none-any.whl (43 kB)\n",
      "Collecting pandas==1.4.2\n",
      "  Using cached pandas-1.4.2-cp38-cp38-manylinux_2_17_x86_64.manylinux2014_x86_64.whl (11.7 MB)\n",
      "Collecting python-dotenv==0.20.0\n",
      "  Using cached python_dotenv-0.20.0-py3-none-any.whl (17 kB)\n",
      "Collecting psycopg2-binary==2.9.3\n",
      "  Using cached psycopg2_binary-2.9.3-cp38-cp38-manylinux_2_17_x86_64.manylinux2014_x86_64.whl (3.0 MB)\n",
      "Collecting requests==2.27.1\n",
      "  Using cached requests-2.27.1-py2.py3-none-any.whl (63 kB)\n",
      "Collecting numpy>=1.18.5\n",
      "  Using cached numpy-1.23.1-cp38-cp38-manylinux_2_17_x86_64.manylinux2014_x86_64.whl (17.1 MB)\n",
      "Collecting opencv-python>=4.1.2\n",
      "  Using cached opencv_python-4.6.0.66-cp36-abi3-manylinux_2_17_x86_64.manylinux2014_x86_64.whl (60.9 MB)\n",
      "Collecting matplotlib>=3.2.2\n",
      "  Using cached matplotlib-3.5.2-cp38-cp38-manylinux_2_5_x86_64.manylinux1_x86_64.whl (11.3 MB)\n",
      "Collecting ipyleaflet>=0.14.0\n",
      "  Using cached ipyleaflet-0.17.0-py2.py3-none-any.whl (3.3 MB)\n",
      "Collecting sympy>=1.10.1\n",
      "  Using cached sympy-1.10.1-py3-none-any.whl (6.4 MB)\n",
      "Collecting sklearn\n",
      "  Using cached sklearn-0.0-py2.py3-none-any.whl\n",
      "Collecting greenlet!=0.4.17\n",
      "  Using cached greenlet-1.1.2-cp38-cp38-manylinux_2_17_x86_64.manylinux2014_x86_64.whl (156 kB)\n",
      "Collecting pytz>=2020.1\n",
      "  Using cached pytz-2022.1-py2.py3-none-any.whl (503 kB)\n",
      "Requirement already satisfied: python-dateutil>=2.8.1 in /home/gitpod/.pyenv/versions/3.8.13/lib/python3.8/site-packages (from pandas==1.4.2->-r ../requirements.txt (line 4)) (2.8.2)\n",
      "Requirement already satisfied: idna<4,>=2.5 in /home/gitpod/.pyenv/versions/3.8.13/lib/python3.8/site-packages (from requests==2.27.1->-r ../requirements.txt (line 7)) (3.3)\n",
      "Requirement already satisfied: certifi>=2017.4.17 in /home/gitpod/.pyenv/versions/3.8.13/lib/python3.8/site-packages (from requests==2.27.1->-r ../requirements.txt (line 7)) (2022.6.15)\n",
      "Requirement already satisfied: urllib3<1.27,>=1.21.1 in /home/gitpod/.pyenv/versions/3.8.13/lib/python3.8/site-packages (from requests==2.27.1->-r ../requirements.txt (line 7)) (1.26.11)\n",
      "Collecting charset-normalizer~=2.0.0\n",
      "  Using cached charset_normalizer-2.0.12-py3-none-any.whl (39 kB)\n",
      "Collecting cycler>=0.10\n",
      "  Using cached cycler-0.11.0-py3-none-any.whl (6.4 kB)\n",
      "Requirement already satisfied: pyparsing>=2.2.1 in /home/gitpod/.pyenv/versions/3.8.13/lib/python3.8/site-packages (from matplotlib>=3.2.2->-r ../requirements.txt (line 11)) (3.0.9)\n",
      "Collecting pillow>=6.2.0\n",
      "  Using cached Pillow-9.2.0-cp38-cp38-manylinux_2_28_x86_64.whl (3.2 MB)\n",
      "Collecting kiwisolver>=1.0.1\n",
      "  Using cached kiwisolver-1.4.4-cp38-cp38-manylinux_2_5_x86_64.manylinux1_x86_64.whl (1.2 MB)\n",
      "Collecting fonttools>=4.22.0\n",
      "  Using cached fonttools-4.34.4-py3-none-any.whl (944 kB)\n",
      "Requirement already satisfied: packaging>=20.0 in /home/gitpod/.pyenv/versions/3.8.13/lib/python3.8/site-packages (from matplotlib>=3.2.2->-r ../requirements.txt (line 11)) (21.3)\n",
      "Collecting ipywidgets<8,>=7.6.0\n",
      "  Using cached ipywidgets-7.7.1-py2.py3-none-any.whl (123 kB)\n",
      "Collecting xyzservices>=2021.8.1\n",
      "  Using cached xyzservices-2022.6.0-py3-none-any.whl (36 kB)\n",
      "Collecting traittypes<3,>=0.2.1\n",
      "  Using cached traittypes-0.2.1-py2.py3-none-any.whl (8.6 kB)\n",
      "Collecting mpmath>=0.19\n",
      "  Using cached mpmath-1.2.1-py3-none-any.whl (532 kB)\n",
      "Collecting scikit-learn\n",
      "  Using cached scikit_learn-1.1.1-cp38-cp38-manylinux_2_17_x86_64.manylinux2014_x86_64.whl (31.2 MB)\n",
      "Requirement already satisfied: ipython>=4.0.0 in /home/gitpod/.pyenv/versions/3.8.13/lib/python3.8/site-packages (from ipywidgets<8,>=7.6.0->ipyleaflet>=0.14.0->-r ../requirements.txt (line 12)) (8.4.0)\n",
      "Requirement already satisfied: ipykernel>=4.5.1 in /home/gitpod/.pyenv/versions/3.8.13/lib/python3.8/site-packages (from ipywidgets<8,>=7.6.0->ipyleaflet>=0.14.0->-r ../requirements.txt (line 12)) (6.15.1)\n",
      "Collecting jupyterlab-widgets>=1.0.0\n",
      "  Using cached jupyterlab_widgets-1.1.1-py3-none-any.whl (245 kB)\n",
      "Requirement already satisfied: ipython-genutils~=0.2.0 in /home/gitpod/.pyenv/versions/3.8.13/lib/python3.8/site-packages (from ipywidgets<8,>=7.6.0->ipyleaflet>=0.14.0->-r ../requirements.txt (line 12)) (0.2.0)\n",
      "Collecting widgetsnbextension~=3.6.0\n",
      "  Using cached widgetsnbextension-3.6.1-py2.py3-none-any.whl (1.6 MB)\n",
      "Requirement already satisfied: traitlets>=4.3.1 in /home/gitpod/.pyenv/versions/3.8.13/lib/python3.8/site-packages (from ipywidgets<8,>=7.6.0->ipyleaflet>=0.14.0->-r ../requirements.txt (line 12)) (5.3.0)\n",
      "Requirement already satisfied: six>=1.5 in /home/gitpod/.pyenv/versions/3.8.13/lib/python3.8/site-packages (from python-dateutil>=2.8.1->pandas==1.4.2->-r ../requirements.txt (line 4)) (1.16.0)\n",
      "Collecting joblib>=1.0.0\n",
      "  Using cached joblib-1.1.0-py2.py3-none-any.whl (306 kB)\n",
      "Collecting threadpoolctl>=2.0.0\n",
      "  Using cached threadpoolctl-3.1.0-py3-none-any.whl (14 kB)\n",
      "Collecting scipy>=1.3.2\n",
      "  Using cached scipy-1.9.0-cp38-cp38-manylinux_2_17_x86_64.manylinux2014_x86_64.whl (43.4 MB)\n",
      "Requirement already satisfied: debugpy>=1.0 in /home/gitpod/.pyenv/versions/3.8.13/lib/python3.8/site-packages (from ipykernel>=4.5.1->ipywidgets<8,>=7.6.0->ipyleaflet>=0.14.0->-r ../requirements.txt (line 12)) (1.6.2)\n",
      "Requirement already satisfied: nest-asyncio in /home/gitpod/.pyenv/versions/3.8.13/lib/python3.8/site-packages (from ipykernel>=4.5.1->ipywidgets<8,>=7.6.0->ipyleaflet>=0.14.0->-r ../requirements.txt (line 12)) (1.5.5)\n",
      "Requirement already satisfied: jupyter-client>=6.1.12 in /home/gitpod/.pyenv/versions/3.8.13/lib/python3.8/site-packages (from ipykernel>=4.5.1->ipywidgets<8,>=7.6.0->ipyleaflet>=0.14.0->-r ../requirements.txt (line 12)) (7.3.4)\n",
      "Requirement already satisfied: pyzmq>=17 in /home/gitpod/.pyenv/versions/3.8.13/lib/python3.8/site-packages (from ipykernel>=4.5.1->ipywidgets<8,>=7.6.0->ipyleaflet>=0.14.0->-r ../requirements.txt (line 12)) (23.2.0)\n",
      "Requirement already satisfied: matplotlib-inline>=0.1 in /home/gitpod/.pyenv/versions/3.8.13/lib/python3.8/site-packages (from ipykernel>=4.5.1->ipywidgets<8,>=7.6.0->ipyleaflet>=0.14.0->-r ../requirements.txt (line 12)) (0.1.3)\n",
      "Requirement already satisfied: psutil in /home/gitpod/.pyenv/versions/3.8.13/lib/python3.8/site-packages (from ipykernel>=4.5.1->ipywidgets<8,>=7.6.0->ipyleaflet>=0.14.0->-r ../requirements.txt (line 12)) (5.9.1)\n",
      "Requirement already satisfied: tornado>=6.1 in /home/gitpod/.pyenv/versions/3.8.13/lib/python3.8/site-packages (from ipykernel>=4.5.1->ipywidgets<8,>=7.6.0->ipyleaflet>=0.14.0->-r ../requirements.txt (line 12)) (6.2)\n",
      "Requirement already satisfied: setuptools>=18.5 in /home/gitpod/.pyenv/versions/3.8.13/lib/python3.8/site-packages (from ipython>=4.0.0->ipywidgets<8,>=7.6.0->ipyleaflet>=0.14.0->-r ../requirements.txt (line 12)) (63.2.0)\n",
      "Requirement already satisfied: stack-data in /home/gitpod/.pyenv/versions/3.8.13/lib/python3.8/site-packages (from ipython>=4.0.0->ipywidgets<8,>=7.6.0->ipyleaflet>=0.14.0->-r ../requirements.txt (line 12)) (0.3.0)\n",
      "Requirement already satisfied: prompt-toolkit!=3.0.0,!=3.0.1,<3.1.0,>=2.0.0 in /home/gitpod/.pyenv/versions/3.8.13/lib/python3.8/site-packages (from ipython>=4.0.0->ipywidgets<8,>=7.6.0->ipyleaflet>=0.14.0->-r ../requirements.txt (line 12)) (3.0.30)\n",
      "Requirement already satisfied: pygments>=2.4.0 in /home/gitpod/.pyenv/versions/3.8.13/lib/python3.8/site-packages (from ipython>=4.0.0->ipywidgets<8,>=7.6.0->ipyleaflet>=0.14.0->-r ../requirements.txt (line 12)) (2.12.0)\n",
      "Requirement already satisfied: decorator in /home/gitpod/.pyenv/versions/3.8.13/lib/python3.8/site-packages (from ipython>=4.0.0->ipywidgets<8,>=7.6.0->ipyleaflet>=0.14.0->-r ../requirements.txt (line 12)) (5.1.1)\n",
      "Requirement already satisfied: backcall in /home/gitpod/.pyenv/versions/3.8.13/lib/python3.8/site-packages (from ipython>=4.0.0->ipywidgets<8,>=7.6.0->ipyleaflet>=0.14.0->-r ../requirements.txt (line 12)) (0.2.0)\n",
      "Requirement already satisfied: jedi>=0.16 in /home/gitpod/.pyenv/versions/3.8.13/lib/python3.8/site-packages (from ipython>=4.0.0->ipywidgets<8,>=7.6.0->ipyleaflet>=0.14.0->-r ../requirements.txt (line 12)) (0.18.1)\n",
      "Requirement already satisfied: pickleshare in /home/gitpod/.pyenv/versions/3.8.13/lib/python3.8/site-packages (from ipython>=4.0.0->ipywidgets<8,>=7.6.0->ipyleaflet>=0.14.0->-r ../requirements.txt (line 12)) (0.7.5)\n",
      "Requirement already satisfied: pexpect>4.3 in /home/gitpod/.pyenv/versions/3.8.13/lib/python3.8/site-packages (from ipython>=4.0.0->ipywidgets<8,>=7.6.0->ipyleaflet>=0.14.0->-r ../requirements.txt (line 12)) (4.8.0)\n",
      "Requirement already satisfied: notebook>=4.4.1 in /home/gitpod/.pyenv/versions/3.8.13/lib/python3.8/site-packages (from widgetsnbextension~=3.6.0->ipywidgets<8,>=7.6.0->ipyleaflet>=0.14.0->-r ../requirements.txt (line 12)) (6.4.12)\n",
      "Requirement already satisfied: parso<0.9.0,>=0.8.0 in /home/gitpod/.pyenv/versions/3.8.13/lib/python3.8/site-packages (from jedi>=0.16->ipython>=4.0.0->ipywidgets<8,>=7.6.0->ipyleaflet>=0.14.0->-r ../requirements.txt (line 12)) (0.8.3)\n",
      "Requirement already satisfied: entrypoints in /home/gitpod/.pyenv/versions/3.8.13/lib/python3.8/site-packages (from jupyter-client>=6.1.12->ipykernel>=4.5.1->ipywidgets<8,>=7.6.0->ipyleaflet>=0.14.0->-r ../requirements.txt (line 12)) (0.4)\n",
      "Requirement already satisfied: jupyter-core>=4.9.2 in /home/gitpod/.pyenv/versions/3.8.13/lib/python3.8/site-packages (from jupyter-client>=6.1.12->ipykernel>=4.5.1->ipywidgets<8,>=7.6.0->ipyleaflet>=0.14.0->-r ../requirements.txt (line 12)) (4.11.1)\n",
      "Requirement already satisfied: terminado>=0.8.3 in /home/gitpod/.pyenv/versions/3.8.13/lib/python3.8/site-packages (from notebook>=4.4.1->widgetsnbextension~=3.6.0->ipywidgets<8,>=7.6.0->ipyleaflet>=0.14.0->-r ../requirements.txt (line 12)) (0.15.0)\n",
      "Requirement already satisfied: nbformat in /home/gitpod/.pyenv/versions/3.8.13/lib/python3.8/site-packages (from notebook>=4.4.1->widgetsnbextension~=3.6.0->ipywidgets<8,>=7.6.0->ipyleaflet>=0.14.0->-r ../requirements.txt (line 12)) (5.4.0)\n",
      "Requirement already satisfied: jinja2 in /home/gitpod/.pyenv/versions/3.8.13/lib/python3.8/site-packages (from notebook>=4.4.1->widgetsnbextension~=3.6.0->ipywidgets<8,>=7.6.0->ipyleaflet>=0.14.0->-r ../requirements.txt (line 12)) (3.1.2)\n",
      "Requirement already satisfied: nbconvert>=5 in /home/gitpod/.pyenv/versions/3.8.13/lib/python3.8/site-packages (from notebook>=4.4.1->widgetsnbextension~=3.6.0->ipywidgets<8,>=7.6.0->ipyleaflet>=0.14.0->-r ../requirements.txt (line 12)) (6.5.0)\n",
      "Requirement already satisfied: argon2-cffi in /home/gitpod/.pyenv/versions/3.8.13/lib/python3.8/site-packages (from notebook>=4.4.1->widgetsnbextension~=3.6.0->ipywidgets<8,>=7.6.0->ipyleaflet>=0.14.0->-r ../requirements.txt (line 12)) (21.3.0)\n",
      "Requirement already satisfied: prometheus-client in /home/gitpod/.pyenv/versions/3.8.13/lib/python3.8/site-packages (from notebook>=4.4.1->widgetsnbextension~=3.6.0->ipywidgets<8,>=7.6.0->ipyleaflet>=0.14.0->-r ../requirements.txt (line 12)) (0.14.1)\n",
      "Requirement already satisfied: Send2Trash>=1.8.0 in /home/gitpod/.pyenv/versions/3.8.13/lib/python3.8/site-packages (from notebook>=4.4.1->widgetsnbextension~=3.6.0->ipywidgets<8,>=7.6.0->ipyleaflet>=0.14.0->-r ../requirements.txt (line 12)) (1.8.0)\n",
      "Requirement already satisfied: ptyprocess>=0.5 in /home/gitpod/.pyenv/versions/3.8.13/lib/python3.8/site-packages (from pexpect>4.3->ipython>=4.0.0->ipywidgets<8,>=7.6.0->ipyleaflet>=0.14.0->-r ../requirements.txt (line 12)) (0.7.0)\n",
      "Requirement already satisfied: wcwidth in /home/gitpod/.pyenv/versions/3.8.13/lib/python3.8/site-packages (from prompt-toolkit!=3.0.0,!=3.0.1,<3.1.0,>=2.0.0->ipython>=4.0.0->ipywidgets<8,>=7.6.0->ipyleaflet>=0.14.0->-r ../requirements.txt (line 12)) (0.2.5)\n",
      "Requirement already satisfied: executing in /home/gitpod/.pyenv/versions/3.8.13/lib/python3.8/site-packages (from stack-data->ipython>=4.0.0->ipywidgets<8,>=7.6.0->ipyleaflet>=0.14.0->-r ../requirements.txt (line 12)) (0.9.0)\n",
      "Requirement already satisfied: asttokens in /home/gitpod/.pyenv/versions/3.8.13/lib/python3.8/site-packages (from stack-data->ipython>=4.0.0->ipywidgets<8,>=7.6.0->ipyleaflet>=0.14.0->-r ../requirements.txt (line 12)) (2.0.5)\n",
      "Requirement already satisfied: pure-eval in /home/gitpod/.pyenv/versions/3.8.13/lib/python3.8/site-packages (from stack-data->ipython>=4.0.0->ipywidgets<8,>=7.6.0->ipyleaflet>=0.14.0->-r ../requirements.txt (line 12)) (0.2.2)\n",
      "Requirement already satisfied: defusedxml in /home/gitpod/.pyenv/versions/3.8.13/lib/python3.8/site-packages (from nbconvert>=5->notebook>=4.4.1->widgetsnbextension~=3.6.0->ipywidgets<8,>=7.6.0->ipyleaflet>=0.14.0->-r ../requirements.txt (line 12)) (0.7.1)\n",
      "Requirement already satisfied: jupyterlab-pygments in /home/gitpod/.pyenv/versions/3.8.13/lib/python3.8/site-packages (from nbconvert>=5->notebook>=4.4.1->widgetsnbextension~=3.6.0->ipywidgets<8,>=7.6.0->ipyleaflet>=0.14.0->-r ../requirements.txt (line 12)) (0.2.2)\n",
      "Requirement already satisfied: mistune<2,>=0.8.1 in /home/gitpod/.pyenv/versions/3.8.13/lib/python3.8/site-packages (from nbconvert>=5->notebook>=4.4.1->widgetsnbextension~=3.6.0->ipywidgets<8,>=7.6.0->ipyleaflet>=0.14.0->-r ../requirements.txt (line 12)) (0.8.4)\n",
      "Requirement already satisfied: bleach in /home/gitpod/.pyenv/versions/3.8.13/lib/python3.8/site-packages (from nbconvert>=5->notebook>=4.4.1->widgetsnbextension~=3.6.0->ipywidgets<8,>=7.6.0->ipyleaflet>=0.14.0->-r ../requirements.txt (line 12)) (5.0.1)\n",
      "Requirement already satisfied: tinycss2 in /home/gitpod/.pyenv/versions/3.8.13/lib/python3.8/site-packages (from nbconvert>=5->notebook>=4.4.1->widgetsnbextension~=3.6.0->ipywidgets<8,>=7.6.0->ipyleaflet>=0.14.0->-r ../requirements.txt (line 12)) (1.1.1)\n",
      "Requirement already satisfied: pandocfilters>=1.4.1 in /home/gitpod/.pyenv/versions/3.8.13/lib/python3.8/site-packages (from nbconvert>=5->notebook>=4.4.1->widgetsnbextension~=3.6.0->ipywidgets<8,>=7.6.0->ipyleaflet>=0.14.0->-r ../requirements.txt (line 12)) (1.5.0)\n",
      "Requirement already satisfied: MarkupSafe>=2.0 in /home/gitpod/.pyenv/versions/3.8.13/lib/python3.8/site-packages (from nbconvert>=5->notebook>=4.4.1->widgetsnbextension~=3.6.0->ipywidgets<8,>=7.6.0->ipyleaflet>=0.14.0->-r ../requirements.txt (line 12)) (2.1.1)\n",
      "Requirement already satisfied: beautifulsoup4 in /home/gitpod/.pyenv/versions/3.8.13/lib/python3.8/site-packages (from nbconvert>=5->notebook>=4.4.1->widgetsnbextension~=3.6.0->ipywidgets<8,>=7.6.0->ipyleaflet>=0.14.0->-r ../requirements.txt (line 12)) (4.11.1)\n",
      "Requirement already satisfied: nbclient>=0.5.0 in /home/gitpod/.pyenv/versions/3.8.13/lib/python3.8/site-packages (from nbconvert>=5->notebook>=4.4.1->widgetsnbextension~=3.6.0->ipywidgets<8,>=7.6.0->ipyleaflet>=0.14.0->-r ../requirements.txt (line 12)) (0.6.6)\n",
      "Requirement already satisfied: jsonschema>=2.6 in /home/gitpod/.pyenv/versions/3.8.13/lib/python3.8/site-packages (from nbformat->notebook>=4.4.1->widgetsnbextension~=3.6.0->ipywidgets<8,>=7.6.0->ipyleaflet>=0.14.0->-r ../requirements.txt (line 12)) (4.7.2)\n",
      "Requirement already satisfied: fastjsonschema in /home/gitpod/.pyenv/versions/3.8.13/lib/python3.8/site-packages (from nbformat->notebook>=4.4.1->widgetsnbextension~=3.6.0->ipywidgets<8,>=7.6.0->ipyleaflet>=0.14.0->-r ../requirements.txt (line 12)) (2.16.1)\n",
      "Requirement already satisfied: argon2-cffi-bindings in /home/gitpod/.pyenv/versions/3.8.13/lib/python3.8/site-packages (from argon2-cffi->notebook>=4.4.1->widgetsnbextension~=3.6.0->ipywidgets<8,>=7.6.0->ipyleaflet>=0.14.0->-r ../requirements.txt (line 12)) (21.2.0)\n",
      "Requirement already satisfied: importlib-resources>=1.4.0 in /home/gitpod/.pyenv/versions/3.8.13/lib/python3.8/site-packages (from jsonschema>=2.6->nbformat->notebook>=4.4.1->widgetsnbextension~=3.6.0->ipywidgets<8,>=7.6.0->ipyleaflet>=0.14.0->-r ../requirements.txt (line 12)) (5.9.0)\n",
      "Requirement already satisfied: pyrsistent!=0.17.0,!=0.17.1,!=0.17.2,>=0.14.0 in /home/gitpod/.pyenv/versions/3.8.13/lib/python3.8/site-packages (from jsonschema>=2.6->nbformat->notebook>=4.4.1->widgetsnbextension~=3.6.0->ipywidgets<8,>=7.6.0->ipyleaflet>=0.14.0->-r ../requirements.txt (line 12)) (0.18.1)\n",
      "Requirement already satisfied: attrs>=17.4.0 in /home/gitpod/.pyenv/versions/3.8.13/lib/python3.8/site-packages (from jsonschema>=2.6->nbformat->notebook>=4.4.1->widgetsnbextension~=3.6.0->ipywidgets<8,>=7.6.0->ipyleaflet>=0.14.0->-r ../requirements.txt (line 12)) (21.4.0)\n",
      "Requirement already satisfied: cffi>=1.0.1 in /home/gitpod/.pyenv/versions/3.8.13/lib/python3.8/site-packages (from argon2-cffi-bindings->argon2-cffi->notebook>=4.4.1->widgetsnbextension~=3.6.0->ipywidgets<8,>=7.6.0->ipyleaflet>=0.14.0->-r ../requirements.txt (line 12)) (1.15.1)\n",
      "Requirement already satisfied: soupsieve>1.2 in /home/gitpod/.pyenv/versions/3.8.13/lib/python3.8/site-packages (from beautifulsoup4->nbconvert>=5->notebook>=4.4.1->widgetsnbextension~=3.6.0->ipywidgets<8,>=7.6.0->ipyleaflet>=0.14.0->-r ../requirements.txt (line 12)) (2.3.2.post1)\n",
      "Requirement already satisfied: webencodings in /home/gitpod/.pyenv/versions/3.8.13/lib/python3.8/site-packages (from bleach->nbconvert>=5->notebook>=4.4.1->widgetsnbextension~=3.6.0->ipywidgets<8,>=7.6.0->ipyleaflet>=0.14.0->-r ../requirements.txt (line 12)) (0.5.1)\n",
      "Requirement already satisfied: pycparser in /home/gitpod/.pyenv/versions/3.8.13/lib/python3.8/site-packages (from cffi>=1.0.1->argon2-cffi-bindings->argon2-cffi->notebook>=4.4.1->widgetsnbextension~=3.6.0->ipywidgets<8,>=7.6.0->ipyleaflet>=0.14.0->-r ../requirements.txt (line 12)) (2.21)\n",
      "Requirement already satisfied: zipp>=3.1.0 in /home/gitpod/.pyenv/versions/3.8.13/lib/python3.8/site-packages (from importlib-resources>=1.4.0->jsonschema>=2.6->nbformat->notebook>=4.4.1->widgetsnbextension~=3.6.0->ipywidgets<8,>=7.6.0->ipyleaflet>=0.14.0->-r ../requirements.txt (line 12)) (3.8.1)\n",
      "Installing collected packages: pytz, mpmath, xyzservices, traittypes, threadpoolctl, sympy, python-dotenv, pymysql, psycopg2-binary, pillow, numpy, kiwisolver, jupyterlab-widgets, joblib, greenlet, fonttools, cycler, charset-normalizer, sqlalchemy, scipy, requests, pandas, opencv-python, matplotlib, scikit-learn, sklearn, widgetsnbextension, ipywidgets, ipyleaflet\n",
      "  Attempting uninstall: charset-normalizer\n",
      "    Found existing installation: charset-normalizer 2.1.0\n",
      "    Uninstalling charset-normalizer-2.1.0:\n",
      "      Successfully uninstalled charset-normalizer-2.1.0\n",
      "  Attempting uninstall: requests\n",
      "    Found existing installation: requests 2.28.1\n",
      "    Uninstalling requests-2.28.1:\n",
      "      Successfully uninstalled requests-2.28.1\n",
      "Successfully installed charset-normalizer-2.0.12 cycler-0.11.0 fonttools-4.34.4 greenlet-1.1.2 ipyleaflet-0.17.0 ipywidgets-7.7.1 joblib-1.1.0 jupyterlab-widgets-1.1.1 kiwisolver-1.4.4 matplotlib-3.5.2 mpmath-1.2.1 numpy-1.23.1 opencv-python-4.6.0.66 pandas-1.4.2 pillow-9.2.0 psycopg2-binary-2.9.3 pymysql-1.0.2 python-dotenv-0.20.0 pytz-2022.1 requests-2.27.1 scikit-learn-1.1.1 scipy-1.9.0 sklearn-0.0 sqlalchemy-1.4.37 sympy-1.10.1 threadpoolctl-3.1.0 traittypes-0.2.1 widgetsnbextension-3.6.1 xyzservices-2022.6.0\n",
      "\n",
      "\u001b[1m[\u001b[0m\u001b[34;49mnotice\u001b[0m\u001b[1;39;49m]\u001b[0m\u001b[39;49m A new release of pip available: \u001b[0m\u001b[31;49m22.2\u001b[0m\u001b[39;49m -> \u001b[0m\u001b[32;49m22.2.2\u001b[0m\n",
      "\u001b[1m[\u001b[0m\u001b[34;49mnotice\u001b[0m\u001b[1;39;49m]\u001b[0m\u001b[39;49m To update, run: \u001b[0m\u001b[32;49mpip install --upgrade pip\u001b[0m\n"
     ]
    }
   ],
   "source": [
    "!pip install -r ../requirements.txt"
   ]
  },
  {
   "cell_type": "code",
   "execution_count": 2,
   "id": "ce609be5",
   "metadata": {},
   "outputs": [],
   "source": [
    "import pandas as pd\n",
    "import pickle\n",
    "import numpy as np\n",
    "import re\n",
    "import unicodedata\n",
    "from sklearn.feature_extraction.text import CountVectorizer\n",
    "from sklearn.model_selection import train_test_split\n",
    "from sklearn.svm import SVC\n",
    "from sklearn.metrics import classification_report\n",
    "from sklearn.model_selection import GridSearchCV"
   ]
  },
  {
   "cell_type": "markdown",
   "id": "00d35697",
   "metadata": {},
   "source": [
    "## Step 1:\n",
    "\n",
    "Load your dataset and do the necessary transformations on your target variable."
   ]
  },
  {
   "cell_type": "code",
   "execution_count": 2,
   "id": "296de1ce",
   "metadata": {},
   "outputs": [],
   "source": [
    "url = \"https://raw.githubusercontent.com/4GeeksAcademy/NLP-project-tutorial/main/url_spam.csv\"\n",
    "\n",
    "df_raw = pd.read_csv(url)"
   ]
  },
  {
   "cell_type": "code",
   "execution_count": 3,
   "id": "06779922",
   "metadata": {},
   "outputs": [
    {
     "data": {
      "text/html": [
       "<div>\n",
       "<style scoped>\n",
       "    .dataframe tbody tr th:only-of-type {\n",
       "        vertical-align: middle;\n",
       "    }\n",
       "\n",
       "    .dataframe tbody tr th {\n",
       "        vertical-align: top;\n",
       "    }\n",
       "\n",
       "    .dataframe thead th {\n",
       "        text-align: right;\n",
       "    }\n",
       "</style>\n",
       "<table border=\"1\" class=\"dataframe\">\n",
       "  <thead>\n",
       "    <tr style=\"text-align: right;\">\n",
       "      <th></th>\n",
       "      <th>url</th>\n",
       "      <th>is_spam</th>\n",
       "    </tr>\n",
       "  </thead>\n",
       "  <tbody>\n",
       "    <tr>\n",
       "      <th>0</th>\n",
       "      <td>https://briefingday.us8.list-manage.com/unsubs...</td>\n",
       "      <td>True</td>\n",
       "    </tr>\n",
       "    <tr>\n",
       "      <th>1</th>\n",
       "      <td>https://www.hvper.com/</td>\n",
       "      <td>True</td>\n",
       "    </tr>\n",
       "    <tr>\n",
       "      <th>2</th>\n",
       "      <td>https://briefingday.com/m/v4n3i4f3</td>\n",
       "      <td>True</td>\n",
       "    </tr>\n",
       "    <tr>\n",
       "      <th>3</th>\n",
       "      <td>https://briefingday.com/n/20200618/m#commentform</td>\n",
       "      <td>False</td>\n",
       "    </tr>\n",
       "    <tr>\n",
       "      <th>4</th>\n",
       "      <td>https://briefingday.com/fan</td>\n",
       "      <td>True</td>\n",
       "    </tr>\n",
       "  </tbody>\n",
       "</table>\n",
       "</div>"
      ],
      "text/plain": [
       "                                                 url  is_spam\n",
       "0  https://briefingday.us8.list-manage.com/unsubs...     True\n",
       "1                             https://www.hvper.com/     True\n",
       "2                 https://briefingday.com/m/v4n3i4f3     True\n",
       "3   https://briefingday.com/n/20200618/m#commentform    False\n",
       "4                        https://briefingday.com/fan     True"
      ]
     },
     "execution_count": 3,
     "metadata": {},
     "output_type": "execute_result"
    }
   ],
   "source": [
    "df_raw.head()"
   ]
  },
  {
   "cell_type": "code",
   "execution_count": 4,
   "id": "b8f526f1",
   "metadata": {},
   "outputs": [
    {
     "data": {
      "text/html": [
       "<div>\n",
       "<style scoped>\n",
       "    .dataframe tbody tr th:only-of-type {\n",
       "        vertical-align: middle;\n",
       "    }\n",
       "\n",
       "    .dataframe tbody tr th {\n",
       "        vertical-align: top;\n",
       "    }\n",
       "\n",
       "    .dataframe thead th {\n",
       "        text-align: right;\n",
       "    }\n",
       "</style>\n",
       "<table border=\"1\" class=\"dataframe\">\n",
       "  <thead>\n",
       "    <tr style=\"text-align: right;\">\n",
       "      <th></th>\n",
       "      <th>url</th>\n",
       "      <th>is_spam</th>\n",
       "    </tr>\n",
       "  </thead>\n",
       "  <tbody>\n",
       "    <tr>\n",
       "      <th>2994</th>\n",
       "      <td>https://www.smartcitiesworld.net/news/news/dee...</td>\n",
       "      <td>False</td>\n",
       "    </tr>\n",
       "    <tr>\n",
       "      <th>2995</th>\n",
       "      <td>https://www.youtube.com/watch</td>\n",
       "      <td>True</td>\n",
       "    </tr>\n",
       "    <tr>\n",
       "      <th>2996</th>\n",
       "      <td>https://techcrunch.com/2019/07/04/an-optimisti...</td>\n",
       "      <td>False</td>\n",
       "    </tr>\n",
       "    <tr>\n",
       "      <th>2997</th>\n",
       "      <td>https://www.technologyreview.com/2019/12/20/13...</td>\n",
       "      <td>False</td>\n",
       "    </tr>\n",
       "    <tr>\n",
       "      <th>2998</th>\n",
       "      <td>https://www.bbc.com/news/technology-51018758</td>\n",
       "      <td>False</td>\n",
       "    </tr>\n",
       "  </tbody>\n",
       "</table>\n",
       "</div>"
      ],
      "text/plain": [
       "                                                    url  is_spam\n",
       "2994  https://www.smartcitiesworld.net/news/news/dee...    False\n",
       "2995                      https://www.youtube.com/watch     True\n",
       "2996  https://techcrunch.com/2019/07/04/an-optimisti...    False\n",
       "2997  https://www.technologyreview.com/2019/12/20/13...    False\n",
       "2998       https://www.bbc.com/news/technology-51018758    False"
      ]
     },
     "execution_count": 4,
     "metadata": {},
     "output_type": "execute_result"
    }
   ],
   "source": [
    "df_raw.tail()"
   ]
  },
  {
   "cell_type": "code",
   "execution_count": 5,
   "id": "c7419cbf",
   "metadata": {},
   "outputs": [
    {
     "data": {
      "text/html": [
       "<div>\n",
       "<style scoped>\n",
       "    .dataframe tbody tr th:only-of-type {\n",
       "        vertical-align: middle;\n",
       "    }\n",
       "\n",
       "    .dataframe tbody tr th {\n",
       "        vertical-align: top;\n",
       "    }\n",
       "\n",
       "    .dataframe thead th {\n",
       "        text-align: right;\n",
       "    }\n",
       "</style>\n",
       "<table border=\"1\" class=\"dataframe\">\n",
       "  <thead>\n",
       "    <tr style=\"text-align: right;\">\n",
       "      <th></th>\n",
       "      <th>url</th>\n",
       "      <th>is_spam</th>\n",
       "    </tr>\n",
       "  </thead>\n",
       "  <tbody>\n",
       "    <tr>\n",
       "      <th>903</th>\n",
       "      <td>https://www.cnn.com/2020/06/24/tech/olympus-ca...</td>\n",
       "      <td>False</td>\n",
       "    </tr>\n",
       "    <tr>\n",
       "      <th>601</th>\n",
       "      <td>https://join1440.com/</td>\n",
       "      <td>True</td>\n",
       "    </tr>\n",
       "    <tr>\n",
       "      <th>2837</th>\n",
       "      <td>https://numlock.substack.com/p/numlock-sunday-...</td>\n",
       "      <td>True</td>\n",
       "    </tr>\n",
       "    <tr>\n",
       "      <th>489</th>\n",
       "      <td>https://shop.morningbrew.com/</td>\n",
       "      <td>True</td>\n",
       "    </tr>\n",
       "    <tr>\n",
       "      <th>2407</th>\n",
       "      <td>https://www.bloomberg.com/tosv2.html</td>\n",
       "      <td>True</td>\n",
       "    </tr>\n",
       "  </tbody>\n",
       "</table>\n",
       "</div>"
      ],
      "text/plain": [
       "                                                    url  is_spam\n",
       "903   https://www.cnn.com/2020/06/24/tech/olympus-ca...    False\n",
       "601                               https://join1440.com/     True\n",
       "2837  https://numlock.substack.com/p/numlock-sunday-...     True\n",
       "489                       https://shop.morningbrew.com/     True\n",
       "2407               https://www.bloomberg.com/tosv2.html     True"
      ]
     },
     "execution_count": 5,
     "metadata": {},
     "output_type": "execute_result"
    }
   ],
   "source": [
    "df_raw.sample(5, random_state=11)"
   ]
  },
  {
   "cell_type": "code",
   "execution_count": 6,
   "id": "36d7f3e5",
   "metadata": {},
   "outputs": [
    {
     "name": "stdout",
     "output_type": "stream",
     "text": [
      "<class 'pandas.core.frame.DataFrame'>\n",
      "RangeIndex: 2999 entries, 0 to 2998\n",
      "Data columns (total 2 columns):\n",
      " #   Column   Non-Null Count  Dtype \n",
      "---  ------   --------------  ----- \n",
      " 0   url      2999 non-null   object\n",
      " 1   is_spam  2999 non-null   bool  \n",
      "dtypes: bool(1), object(1)\n",
      "memory usage: 26.5+ KB\n"
     ]
    }
   ],
   "source": [
    "df_raw.info()"
   ]
  },
  {
   "cell_type": "code",
   "execution_count": 7,
   "id": "8f5dcde0",
   "metadata": {},
   "outputs": [
    {
     "data": {
      "text/plain": [
       "<AxesSubplot:>"
      ]
     },
     "execution_count": 7,
     "metadata": {},
     "output_type": "execute_result"
    },
    {
     "data": {
      "image/png": "[encoded data removed]",
      "text/plain": [
       "<Figure size 432x288 with 1 Axes>"
      ]
     },
     "metadata": {
      "needs_background": "light"
     },
     "output_type": "display_data"
    }
   ],
   "source": [
    "df_raw['is_spam'].value_counts().plot.bar()"
   ]
  },
  {
   "cell_type": "code",
   "execution_count": 8,
   "id": "faf4dae0",
   "metadata": {},
   "outputs": [],
   "source": [
    "df = df_raw.copy()"
   ]
  },
  {
   "cell_type": "code",
   "execution_count": 9,
   "id": "fc86046a",
   "metadata": {},
   "outputs": [
    {
     "data": {
      "text/plain": [
       "True"
      ]
     },
     "execution_count": 9,
     "metadata": {},
     "output_type": "execute_result"
    }
   ],
   "source": [
    "df.duplicated().any()"
   ]
  },
  {
   "cell_type": "code",
   "execution_count": 10,
   "id": "62d15742",
   "metadata": {},
   "outputs": [],
   "source": [
    "#Remove duplicates\n",
    "df = df.drop_duplicates().reset_index(drop = True)"
   ]
  },
  {
   "cell_type": "code",
   "execution_count": 11,
   "id": "955c8bf6",
   "metadata": {},
   "outputs": [
    {
     "name": "stdout",
     "output_type": "stream",
     "text": [
      "<class 'pandas.core.frame.DataFrame'>\n",
      "RangeIndex: 2369 entries, 0 to 2368\n",
      "Data columns (total 2 columns):\n",
      " #   Column   Non-Null Count  Dtype \n",
      "---  ------   --------------  ----- \n",
      " 0   url      2369 non-null   object\n",
      " 1   is_spam  2369 non-null   bool  \n",
      "dtypes: bool(1), object(1)\n",
      "memory usage: 20.9+ KB\n"
     ]
    }
   ],
   "source": [
    "df.info()"
   ]
  },
  {
   "cell_type": "code",
   "execution_count": 12,
   "id": "73ad7ab5",
   "metadata": {},
   "outputs": [
    {
     "data": {
      "text/html": [
       "<div>\n",
       "<style scoped>\n",
       "    .dataframe tbody tr th:only-of-type {\n",
       "        vertical-align: middle;\n",
       "    }\n",
       "\n",
       "    .dataframe tbody tr th {\n",
       "        vertical-align: top;\n",
       "    }\n",
       "\n",
       "    .dataframe thead th {\n",
       "        text-align: right;\n",
       "    }\n",
       "</style>\n",
       "<table border=\"1\" class=\"dataframe\">\n",
       "  <thead>\n",
       "    <tr style=\"text-align: right;\">\n",
       "      <th></th>\n",
       "      <th>url</th>\n",
       "      <th>is_spam</th>\n",
       "    </tr>\n",
       "  </thead>\n",
       "  <tbody>\n",
       "    <tr>\n",
       "      <th>0</th>\n",
       "      <td>https://briefingday.us8.list-manage.com/unsubs...</td>\n",
       "      <td>1</td>\n",
       "    </tr>\n",
       "    <tr>\n",
       "      <th>1</th>\n",
       "      <td>https://www.hvper.com/</td>\n",
       "      <td>1</td>\n",
       "    </tr>\n",
       "    <tr>\n",
       "      <th>2</th>\n",
       "      <td>https://briefingday.com/m/v4n3i4f3</td>\n",
       "      <td>1</td>\n",
       "    </tr>\n",
       "    <tr>\n",
       "      <th>3</th>\n",
       "      <td>https://briefingday.com/n/20200618/m#commentform</td>\n",
       "      <td>0</td>\n",
       "    </tr>\n",
       "    <tr>\n",
       "      <th>4</th>\n",
       "      <td>https://briefingday.com/fan</td>\n",
       "      <td>1</td>\n",
       "    </tr>\n",
       "  </tbody>\n",
       "</table>\n",
       "</div>"
      ],
      "text/plain": [
       "                                                 url  is_spam\n",
       "0  https://briefingday.us8.list-manage.com/unsubs...        1\n",
       "1                             https://www.hvper.com/        1\n",
       "2                 https://briefingday.com/m/v4n3i4f3        1\n",
       "3   https://briefingday.com/n/20200618/m#commentform        0\n",
       "4                        https://briefingday.com/fan        1"
      ]
     },
     "execution_count": 12,
     "metadata": {},
     "output_type": "execute_result"
    }
   ],
   "source": [
    "#Encode\n",
    "\n",
    "df['is_spam'] = df['is_spam'].apply(lambda x: 1 if x == True else 0)\n",
    "df.head()"
   ]
  },
  {
   "cell_type": "markdown",
   "id": "bade90b5",
   "metadata": {},
   "source": [
    "## Step 2:\n",
    "\n",
    "Use NLP techniques to preprocess the data. "
   ]
  },
  {
   "cell_type": "code",
   "execution_count": 13,
   "id": "a7d3a944",
   "metadata": {},
   "outputs": [],
   "source": [
    "\n",
    "\n",
    "def no_alpha(text): #remove non-alphanumeric characters\n",
    "    return re.sub(\"(\\\\d|\\\\W)+\",\" \",text)\n",
    "\n",
    "def tags(text): #remove tags\n",
    "    return re.sub(\"&lt;/?.*?&gt;\",\" &lt;&gt; \",text)\n",
    "\n",
    "def punct(text):#remove punctuation\n",
    "    return re.sub('[^a-zA-Z]', ' ', text)\n",
    "\n",
    "def url(text): #remove start of url\n",
    "    return re.sub(r'(https://www|https://)', '', text)\n",
    "\n"
   ]
  },
  {
   "cell_type": "code",
   "execution_count": 14,
   "id": "68a09422",
   "metadata": {},
   "outputs": [],
   "source": [
    "df['clean_url'] = df['url'].apply(url).apply(no_alpha).apply(tags).apply(punct)"
   ]
  },
  {
   "cell_type": "code",
   "execution_count": 15,
   "id": "808524ec",
   "metadata": {},
   "outputs": [
    {
     "data": {
      "text/html": [
       "<div>\n",
       "<style scoped>\n",
       "    .dataframe tbody tr th:only-of-type {\n",
       "        vertical-align: middle;\n",
       "    }\n",
       "\n",
       "    .dataframe tbody tr th {\n",
       "        vertical-align: top;\n",
       "    }\n",
       "\n",
       "    .dataframe thead th {\n",
       "        text-align: right;\n",
       "    }\n",
       "</style>\n",
       "<table border=\"1\" class=\"dataframe\">\n",
       "  <thead>\n",
       "    <tr style=\"text-align: right;\">\n",
       "      <th></th>\n",
       "      <th>url</th>\n",
       "      <th>is_spam</th>\n",
       "      <th>clean_url</th>\n",
       "    </tr>\n",
       "  </thead>\n",
       "  <tbody>\n",
       "    <tr>\n",
       "      <th>0</th>\n",
       "      <td>https://briefingday.us8.list-manage.com/unsubs...</td>\n",
       "      <td>1</td>\n",
       "      <td>briefingday us list manage com unsubscribe</td>\n",
       "    </tr>\n",
       "    <tr>\n",
       "      <th>1</th>\n",
       "      <td>https://www.hvper.com/</td>\n",
       "      <td>1</td>\n",
       "      <td>hvper com</td>\n",
       "    </tr>\n",
       "    <tr>\n",
       "      <th>2</th>\n",
       "      <td>https://briefingday.com/m/v4n3i4f3</td>\n",
       "      <td>1</td>\n",
       "      <td>briefingday com m v n i f</td>\n",
       "    </tr>\n",
       "    <tr>\n",
       "      <th>3</th>\n",
       "      <td>https://briefingday.com/n/20200618/m#commentform</td>\n",
       "      <td>0</td>\n",
       "      <td>briefingday com n m commentform</td>\n",
       "    </tr>\n",
       "    <tr>\n",
       "      <th>4</th>\n",
       "      <td>https://briefingday.com/fan</td>\n",
       "      <td>1</td>\n",
       "      <td>briefingday com fan</td>\n",
       "    </tr>\n",
       "  </tbody>\n",
       "</table>\n",
       "</div>"
      ],
      "text/plain": [
       "                                                 url  is_spam  \\\n",
       "0  https://briefingday.us8.list-manage.com/unsubs...        1   \n",
       "1                             https://www.hvper.com/        1   \n",
       "2                 https://briefingday.com/m/v4n3i4f3        1   \n",
       "3   https://briefingday.com/n/20200618/m#commentform        0   \n",
       "4                        https://briefingday.com/fan        1   \n",
       "\n",
       "                                    clean_url  \n",
       "0  briefingday us list manage com unsubscribe  \n",
       "1                                  hvper com   \n",
       "2                  briefingday com m v n i f   \n",
       "3             briefingday com n m commentform  \n",
       "4                         briefingday com fan  "
      ]
     },
     "execution_count": 15,
     "metadata": {},
     "output_type": "execute_result"
    }
   ],
   "source": [
    "df.head()"
   ]
  },
  {
   "cell_type": "markdown",
   "id": "ca918806",
   "metadata": {},
   "source": [
    "## Step 3:\n",
    "\n",
    "Use Support Vector machine to build a url spam classifier."
   ]
  },
  {
   "cell_type": "code",
   "execution_count": 16,
   "id": "3298b31d",
   "metadata": {},
   "outputs": [],
   "source": [
    "X = df['clean_url']\n",
    "y = df['is_spam']"
   ]
  },
  {
   "cell_type": "code",
   "execution_count": 17,
   "id": "b4331499",
   "metadata": {},
   "outputs": [],
   "source": [
    "X_train, X_test, y_train, y_test = train_test_split(X,y, random_state=15, stratify=y)"
   ]
  },
  {
   "cell_type": "code",
   "execution_count": 18,
   "id": "8cfe2067",
   "metadata": {},
   "outputs": [],
   "source": [
    "vec = CountVectorizer(stop_words='english')\n",
    "X_train = vec.fit_transform(X_train).toarray()\n",
    "X_test=vec.transform(X_test).toarray()"
   ]
  },
  {
   "cell_type": "code",
   "execution_count": 20,
   "id": "d9f87658",
   "metadata": {},
   "outputs": [],
   "source": [
    "classifier = SVC(C = 1.0, kernel = 'linear', gamma = 'auto')"
   ]
  },
  {
   "cell_type": "code",
   "execution_count": 21,
   "id": "66242830",
   "metadata": {},
   "outputs": [
    {
     "name": "stdout",
     "output_type": "stream",
     "text": [
      "              precision    recall  f1-score   support\n",
      "\n",
      "           0       0.96      0.98      0.97       532\n",
      "           1       0.76      0.61      0.67        61\n",
      "\n",
      "    accuracy                           0.94       593\n",
      "   macro avg       0.86      0.79      0.82       593\n",
      "weighted avg       0.94      0.94      0.94       593\n",
      "\n"
     ]
    }
   ],
   "source": [
    "classifier.fit(X_train, y_train)\n",
    "predictions = classifier.predict(X_test)\n",
    "\n",
    "print(classification_report(y_test, predictions))"
   ]
  },
  {
   "cell_type": "markdown",
   "id": "59f305c4",
   "metadata": {},
   "source": [
    "### Hypertune"
   ]
  },
  {
   "cell_type": "code",
   "execution_count": 22,
   "id": "fd1cc007",
   "metadata": {},
   "outputs": [
    {
     "name": "stdout",
     "output_type": "stream",
     "text": [
      "Fitting 5 folds for each of 48 candidates, totalling 240 fits\n",
      "[CV] END .........................C=0.1, gamma=1, kernel=rbf; total time=   9.4s\n",
      "[CV] END .........................C=0.1, gamma=1, kernel=rbf; total time=   9.5s\n",
      "[CV] END .........................C=0.1, gamma=1, kernel=rbf; total time=   9.5s\n",
      "[CV] END .........................C=0.1, gamma=1, kernel=rbf; total time=   9.7s\n",
      "[CV] END .........................C=0.1, gamma=1, kernel=rbf; total time=   9.8s\n",
      "[CV] END ........................C=0.1, gamma=1, kernel=poly; total time=   8.0s\n",
      "[CV] END ........................C=0.1, gamma=1, kernel=poly; total time=   8.0s\n",
      "[CV] END ........................C=0.1, gamma=1, kernel=poly; total time=   8.1s\n",
      "[CV] END ........................C=0.1, gamma=1, kernel=poly; total time=   8.1s\n",
      "[CV] END ........................C=0.1, gamma=1, kernel=poly; total time=   8.3s\n",
      "[CV] END .....................C=0.1, gamma=1, kernel=sigmoid; total time=   2.7s\n",
      "[CV] END .....................C=0.1, gamma=1, kernel=sigmoid; total time=   3.2s\n",
      "[CV] END .....................C=0.1, gamma=1, kernel=sigmoid; total time=   3.0s\n",
      "[CV] END .....................C=0.1, gamma=1, kernel=sigmoid; total time=   3.0s\n",
      "[CV] END .....................C=0.1, gamma=1, kernel=sigmoid; total time=   2.3s\n",
      "[CV] END .......................C=0.1, gamma=0.1, kernel=rbf; total time=   6.7s\n",
      "[CV] END .......................C=0.1, gamma=0.1, kernel=rbf; total time=   8.0s\n",
      "[CV] END .......................C=0.1, gamma=0.1, kernel=rbf; total time=   7.6s\n",
      "[CV] END .......................C=0.1, gamma=0.1, kernel=rbf; total time=   6.7s\n",
      "[CV] END .......................C=0.1, gamma=0.1, kernel=rbf; total time=   7.8s\n",
      "[CV] END ......................C=0.1, gamma=0.1, kernel=poly; total time=   7.3s\n",
      "[CV] END ......................C=0.1, gamma=0.1, kernel=poly; total time=   7.6s\n",
      "[CV] END ......................C=0.1, gamma=0.1, kernel=poly; total time=   7.5s\n",
      "[CV] END ......................C=0.1, gamma=0.1, kernel=poly; total time=   7.8s\n",
      "[CV] END ......................C=0.1, gamma=0.1, kernel=poly; total time=   8.0s\n",
      "[CV] END ...................C=0.1, gamma=0.1, kernel=sigmoid; total time=   4.1s\n",
      "[CV] END ...................C=0.1, gamma=0.1, kernel=sigmoid; total time=   3.5s\n",
      "[CV] END ...................C=0.1, gamma=0.1, kernel=sigmoid; total time=   3.8s\n",
      "[CV] END ...................C=0.1, gamma=0.1, kernel=sigmoid; total time=   3.6s\n",
      "[CV] END ...................C=0.1, gamma=0.1, kernel=sigmoid; total time=   3.5s\n",
      "[CV] END ......................C=0.1, gamma=0.01, kernel=rbf; total time=   4.8s\n",
      "[CV] END ......................C=0.1, gamma=0.01, kernel=rbf; total time=   4.4s\n",
      "[CV] END ......................C=0.1, gamma=0.01, kernel=rbf; total time=   4.7s\n",
      "[CV] END ......................C=0.1, gamma=0.01, kernel=rbf; total time=   4.4s\n",
      "[CV] END ......................C=0.1, gamma=0.01, kernel=rbf; total time=   4.4s\n",
      "[CV] END .....................C=0.1, gamma=0.01, kernel=poly; total time=   1.9s\n",
      "[CV] END .....................C=0.1, gamma=0.01, kernel=poly; total time=   1.9s\n",
      "[CV] END .....................C=0.1, gamma=0.01, kernel=poly; total time=   1.8s\n",
      "[CV] END .....................C=0.1, gamma=0.01, kernel=poly; total time=   1.7s\n",
      "[CV] END .....................C=0.1, gamma=0.01, kernel=poly; total time=   1.9s\n",
      "[CV] END ..................C=0.1, gamma=0.01, kernel=sigmoid; total time=   4.0s\n",
      "[CV] END ..................C=0.1, gamma=0.01, kernel=sigmoid; total time=   3.6s\n",
      "[CV] END ..................C=0.1, gamma=0.01, kernel=sigmoid; total time=   3.3s\n",
      "[CV] END ..................C=0.1, gamma=0.01, kernel=sigmoid; total time=   3.8s\n",
      "[CV] END ..................C=0.1, gamma=0.01, kernel=sigmoid; total time=   3.5s\n",
      "[CV] END .....................C=0.1, gamma=0.001, kernel=rbf; total time=   2.3s\n",
      "[CV] END .....................C=0.1, gamma=0.001, kernel=rbf; total time=   2.7s\n",
      "[CV] END .....................C=0.1, gamma=0.001, kernel=rbf; total time=   2.3s\n",
      "[CV] END .....................C=0.1, gamma=0.001, kernel=rbf; total time=   2.3s\n",
      "[CV] END .....................C=0.1, gamma=0.001, kernel=rbf; total time=   2.5s\n",
      "[CV] END ....................C=0.1, gamma=0.001, kernel=poly; total time=   2.0s\n",
      "[CV] END ....................C=0.1, gamma=0.001, kernel=poly; total time=   1.8s\n",
      "[CV] END ....................C=0.1, gamma=0.001, kernel=poly; total time=   1.9s\n",
      "[CV] END ....................C=0.1, gamma=0.001, kernel=poly; total time=   2.0s\n",
      "[CV] END ....................C=0.1, gamma=0.001, kernel=poly; total time=   1.9s\n",
      "[CV] END .................C=0.1, gamma=0.001, kernel=sigmoid; total time=   1.9s\n",
      "[CV] END .................C=0.1, gamma=0.001, kernel=sigmoid; total time=   2.1s\n",
      "[CV] END .................C=0.1, gamma=0.001, kernel=sigmoid; total time=   2.0s\n",
      "[CV] END .................C=0.1, gamma=0.001, kernel=sigmoid; total time=   2.1s\n",
      "[CV] END .................C=0.1, gamma=0.001, kernel=sigmoid; total time=   2.0s\n",
      "[CV] END ...........................C=1, gamma=1, kernel=rbf; total time=   9.8s\n",
      "[CV] END ...........................C=1, gamma=1, kernel=rbf; total time=   9.4s\n",
      "[CV] END ...........................C=1, gamma=1, kernel=rbf; total time=   9.3s\n",
      "[CV] END ...........................C=1, gamma=1, kernel=rbf; total time=   9.8s\n",
      "[CV] END ...........................C=1, gamma=1, kernel=rbf; total time=   9.9s\n",
      "[CV] END ..........................C=1, gamma=1, kernel=poly; total time=   8.7s\n",
      "[CV] END ..........................C=1, gamma=1, kernel=poly; total time=   8.9s\n",
      "[CV] END ..........................C=1, gamma=1, kernel=poly; total time=   8.4s\n",
      "[CV] END ..........................C=1, gamma=1, kernel=poly; total time=   9.6s\n",
      "[CV] END ..........................C=1, gamma=1, kernel=poly; total time=   9.4s\n",
      "[CV] END .......................C=1, gamma=1, kernel=sigmoid; total time=   2.1s\n",
      "[CV] END .......................C=1, gamma=1, kernel=sigmoid; total time=   2.9s\n",
      "[CV] END .......................C=1, gamma=1, kernel=sigmoid; total time=   2.1s\n",
      "[CV] END .......................C=1, gamma=1, kernel=sigmoid; total time=   3.2s\n",
      "[CV] END .......................C=1, gamma=1, kernel=sigmoid; total time=   2.4s\n",
      "[CV] END .........................C=1, gamma=0.1, kernel=rbf; total time=   7.8s\n",
      "[CV] END .........................C=1, gamma=0.1, kernel=rbf; total time=   9.2s\n",
      "[CV] END .........................C=1, gamma=0.1, kernel=rbf; total time=   8.8s\n",
      "[CV] END .........................C=1, gamma=0.1, kernel=rbf; total time=   6.2s\n",
      "[CV] END .........................C=1, gamma=0.1, kernel=rbf; total time=   7.9s\n",
      "[CV] END ........................C=1, gamma=0.1, kernel=poly; total time=   9.0s\n",
      "[CV] END ........................C=1, gamma=0.1, kernel=poly; total time=   8.6s\n",
      "[CV] END ........................C=1, gamma=0.1, kernel=poly; total time=   8.2s\n",
      "[CV] END ........................C=1, gamma=0.1, kernel=poly; total time=   8.5s\n",
      "[CV] END ........................C=1, gamma=0.1, kernel=poly; total time=   7.8s\n",
      "[CV] END .....................C=1, gamma=0.1, kernel=sigmoid; total time=   3.3s\n",
      "[CV] END .....................C=1, gamma=0.1, kernel=sigmoid; total time=   3.6s\n",
      "[CV] END .....................C=1, gamma=0.1, kernel=sigmoid; total time=   3.9s\n",
      "[CV] END .....................C=1, gamma=0.1, kernel=sigmoid; total time=   3.6s\n",
      "[CV] END .....................C=1, gamma=0.1, kernel=sigmoid; total time=   3.5s\n",
      "[CV] END ........................C=1, gamma=0.01, kernel=rbf; total time=   5.2s\n",
      "[CV] END ........................C=1, gamma=0.01, kernel=rbf; total time=   5.5s\n",
      "[CV] END ........................C=1, gamma=0.01, kernel=rbf; total time=   5.8s\n",
      "[CV] END ........................C=1, gamma=0.01, kernel=rbf; total time=   5.7s\n",
      "[CV] END ........................C=1, gamma=0.01, kernel=rbf; total time=   5.7s\n",
      "[CV] END .......................C=1, gamma=0.01, kernel=poly; total time=   2.3s\n",
      "[CV] END .......................C=1, gamma=0.01, kernel=poly; total time=   2.4s\n",
      "[CV] END .......................C=1, gamma=0.01, kernel=poly; total time=   2.3s\n",
      "[CV] END .......................C=1, gamma=0.01, kernel=poly; total time=   2.0s\n",
      "[CV] END .......................C=1, gamma=0.01, kernel=poly; total time=   2.2s\n",
      "[CV] END ....................C=1, gamma=0.01, kernel=sigmoid; total time=   4.0s\n"
     ]
    },
    {
     "name": "stdout",
     "output_type": "stream",
     "text": [
      "[CV] END ....................C=1, gamma=0.01, kernel=sigmoid; total time=   4.0s\n",
      "[CV] END ....................C=1, gamma=0.01, kernel=sigmoid; total time=   4.1s\n",
      "[CV] END ....................C=1, gamma=0.01, kernel=sigmoid; total time=   4.0s\n",
      "[CV] END ....................C=1, gamma=0.01, kernel=sigmoid; total time=   4.1s\n",
      "[CV] END .......................C=1, gamma=0.001, kernel=rbf; total time=   4.1s\n",
      "[CV] END .......................C=1, gamma=0.001, kernel=rbf; total time=   4.1s\n",
      "[CV] END .......................C=1, gamma=0.001, kernel=rbf; total time=   4.3s\n",
      "[CV] END .......................C=1, gamma=0.001, kernel=rbf; total time=   4.8s\n",
      "[CV] END .......................C=1, gamma=0.001, kernel=rbf; total time=   4.6s\n",
      "[CV] END ......................C=1, gamma=0.001, kernel=poly; total time=   2.0s\n",
      "[CV] END ......................C=1, gamma=0.001, kernel=poly; total time=   1.9s\n",
      "[CV] END ......................C=1, gamma=0.001, kernel=poly; total time=   2.0s\n",
      "[CV] END ......................C=1, gamma=0.001, kernel=poly; total time=   2.0s\n",
      "[CV] END ......................C=1, gamma=0.001, kernel=poly; total time=   2.0s\n",
      "[CV] END ...................C=1, gamma=0.001, kernel=sigmoid; total time=   3.7s\n",
      "[CV] END ...................C=1, gamma=0.001, kernel=sigmoid; total time=   3.7s\n",
      "[CV] END ...................C=1, gamma=0.001, kernel=sigmoid; total time=   3.8s\n",
      "[CV] END ...................C=1, gamma=0.001, kernel=sigmoid; total time=   3.8s\n",
      "[CV] END ...................C=1, gamma=0.001, kernel=sigmoid; total time=   3.9s\n",
      "[CV] END ..........................C=10, gamma=1, kernel=rbf; total time=   9.5s\n",
      "[CV] END ..........................C=10, gamma=1, kernel=rbf; total time=   9.4s\n",
      "[CV] END ..........................C=10, gamma=1, kernel=rbf; total time=   9.7s\n",
      "[CV] END ..........................C=10, gamma=1, kernel=rbf; total time=  12.3s\n",
      "[CV] END ..........................C=10, gamma=1, kernel=rbf; total time=  13.7s\n",
      "[CV] END .........................C=10, gamma=1, kernel=poly; total time=  11.9s\n",
      "[CV] END .........................C=10, gamma=1, kernel=poly; total time=  13.8s\n",
      "[CV] END .........................C=10, gamma=1, kernel=poly; total time=  11.4s\n",
      "[CV] END .........................C=10, gamma=1, kernel=poly; total time=  10.7s\n",
      "[CV] END .........................C=10, gamma=1, kernel=poly; total time=  10.5s\n",
      "[CV] END ......................C=10, gamma=1, kernel=sigmoid; total time=   2.2s\n",
      "[CV] END ......................C=10, gamma=1, kernel=sigmoid; total time=   2.4s\n",
      "[CV] END ......................C=10, gamma=1, kernel=sigmoid; total time=   2.3s\n",
      "[CV] END ......................C=10, gamma=1, kernel=sigmoid; total time=   2.2s\n",
      "[CV] END ......................C=10, gamma=1, kernel=sigmoid; total time=   2.4s\n",
      "[CV] END ........................C=10, gamma=0.1, kernel=rbf; total time=   5.5s\n",
      "[CV] END ........................C=10, gamma=0.1, kernel=rbf; total time=   5.6s\n",
      "[CV] END ........................C=10, gamma=0.1, kernel=rbf; total time=   6.6s\n",
      "[CV] END ........................C=10, gamma=0.1, kernel=rbf; total time=   6.1s\n",
      "[CV] END ........................C=10, gamma=0.1, kernel=rbf; total time=   6.0s\n",
      "[CV] END .......................C=10, gamma=0.1, kernel=poly; total time=  10.8s\n",
      "[CV] END .......................C=10, gamma=0.1, kernel=poly; total time=  11.0s\n",
      "[CV] END .......................C=10, gamma=0.1, kernel=poly; total time=  10.6s\n",
      "[CV] END .......................C=10, gamma=0.1, kernel=poly; total time=  10.8s\n",
      "[CV] END .......................C=10, gamma=0.1, kernel=poly; total time=  10.4s\n",
      "[CV] END ....................C=10, gamma=0.1, kernel=sigmoid; total time=   3.3s\n",
      "[CV] END ....................C=10, gamma=0.1, kernel=sigmoid; total time=   4.6s\n",
      "[CV] END ....................C=10, gamma=0.1, kernel=sigmoid; total time=   4.5s\n",
      "[CV] END ....................C=10, gamma=0.1, kernel=sigmoid; total time=   4.5s\n",
      "[CV] END ....................C=10, gamma=0.1, kernel=sigmoid; total time=   3.3s\n",
      "[CV] END .......................C=10, gamma=0.01, kernel=rbf; total time=   6.1s\n",
      "[CV] END .......................C=10, gamma=0.01, kernel=rbf; total time=   6.2s\n",
      "[CV] END .......................C=10, gamma=0.01, kernel=rbf; total time=   6.3s\n",
      "[CV] END .......................C=10, gamma=0.01, kernel=rbf; total time=   6.2s\n",
      "[CV] END .......................C=10, gamma=0.01, kernel=rbf; total time=   6.1s\n",
      "[CV] END ......................C=10, gamma=0.01, kernel=poly; total time=   7.1s\n",
      "[CV] END ......................C=10, gamma=0.01, kernel=poly; total time=   5.7s\n",
      "[CV] END ......................C=10, gamma=0.01, kernel=poly; total time=   6.6s\n",
      "[CV] END ......................C=10, gamma=0.01, kernel=poly; total time=   6.6s\n",
      "[CV] END ......................C=10, gamma=0.01, kernel=poly; total time=   5.0s\n",
      "[CV] END ...................C=10, gamma=0.01, kernel=sigmoid; total time=   5.4s\n",
      "[CV] END ...................C=10, gamma=0.01, kernel=sigmoid; total time=   5.4s\n",
      "[CV] END ...................C=10, gamma=0.01, kernel=sigmoid; total time=   5.5s\n",
      "[CV] END ...................C=10, gamma=0.01, kernel=sigmoid; total time=   5.5s\n",
      "[CV] END ...................C=10, gamma=0.01, kernel=sigmoid; total time=   5.4s\n",
      "[CV] END ......................C=10, gamma=0.001, kernel=rbf; total time=   6.4s\n",
      "[CV] END ......................C=10, gamma=0.001, kernel=rbf; total time=   6.7s\n",
      "[CV] END ......................C=10, gamma=0.001, kernel=rbf; total time=   7.5s\n",
      "[CV] END ......................C=10, gamma=0.001, kernel=rbf; total time=   6.7s\n",
      "[CV] END ......................C=10, gamma=0.001, kernel=rbf; total time=   6.6s\n",
      "[CV] END .....................C=10, gamma=0.001, kernel=poly; total time=   2.2s\n",
      "[CV] END .....................C=10, gamma=0.001, kernel=poly; total time=   2.3s\n",
      "[CV] END .....................C=10, gamma=0.001, kernel=poly; total time=   2.2s\n",
      "[CV] END .....................C=10, gamma=0.001, kernel=poly; total time=   2.2s\n",
      "[CV] END .....................C=10, gamma=0.001, kernel=poly; total time=   2.2s\n",
      "[CV] END ..................C=10, gamma=0.001, kernel=sigmoid; total time=   5.3s\n",
      "[CV] END ..................C=10, gamma=0.001, kernel=sigmoid; total time=   5.2s\n",
      "[CV] END ..................C=10, gamma=0.001, kernel=sigmoid; total time=   5.7s\n",
      "[CV] END ..................C=10, gamma=0.001, kernel=sigmoid; total time=   5.5s\n",
      "[CV] END ..................C=10, gamma=0.001, kernel=sigmoid; total time=   5.4s\n",
      "[CV] END .........................C=100, gamma=1, kernel=rbf; total time=  12.7s\n",
      "[CV] END .........................C=100, gamma=1, kernel=rbf; total time=  12.8s\n",
      "[CV] END .........................C=100, gamma=1, kernel=rbf; total time=  12.8s\n",
      "[CV] END .........................C=100, gamma=1, kernel=rbf; total time=  12.7s\n",
      "[CV] END .........................C=100, gamma=1, kernel=rbf; total time=  12.8s\n",
      "[CV] END ........................C=100, gamma=1, kernel=poly; total time=  10.3s\n",
      "[CV] END ........................C=100, gamma=1, kernel=poly; total time=  10.2s\n",
      "[CV] END ........................C=100, gamma=1, kernel=poly; total time=  10.4s\n",
      "[CV] END ........................C=100, gamma=1, kernel=poly; total time=  10.4s\n",
      "[CV] END ........................C=100, gamma=1, kernel=poly; total time=  10.4s\n",
      "[CV] END .....................C=100, gamma=1, kernel=sigmoid; total time=   2.0s\n",
      "[CV] END .....................C=100, gamma=1, kernel=sigmoid; total time=   2.0s\n",
      "[CV] END .....................C=100, gamma=1, kernel=sigmoid; total time=   1.7s\n",
      "[CV] END .....................C=100, gamma=1, kernel=sigmoid; total time=   1.8s\n",
      "[CV] END .....................C=100, gamma=1, kernel=sigmoid; total time=   2.0s\n",
      "[CV] END .......................C=100, gamma=0.1, kernel=rbf; total time=   5.0s\n",
      "[CV] END .......................C=100, gamma=0.1, kernel=rbf; total time=   4.3s\n",
      "[CV] END .......................C=100, gamma=0.1, kernel=rbf; total time=   4.8s\n",
      "[CV] END .......................C=100, gamma=0.1, kernel=rbf; total time=   4.4s\n",
      "[CV] END .......................C=100, gamma=0.1, kernel=rbf; total time=   4.9s\n",
      "[CV] END ......................C=100, gamma=0.1, kernel=poly; total time=  11.4s\n",
      "[CV] END ......................C=100, gamma=0.1, kernel=poly; total time=  10.9s\n",
      "[CV] END ......................C=100, gamma=0.1, kernel=poly; total time=  10.6s\n"
     ]
    },
    {
     "name": "stdout",
     "output_type": "stream",
     "text": [
      "[CV] END ......................C=100, gamma=0.1, kernel=poly; total time=  10.3s\n",
      "[CV] END ......................C=100, gamma=0.1, kernel=poly; total time=  10.5s\n",
      "[CV] END ...................C=100, gamma=0.1, kernel=sigmoid; total time=   2.6s\n",
      "[CV] END ...................C=100, gamma=0.1, kernel=sigmoid; total time=   2.3s\n",
      "[CV] END ...................C=100, gamma=0.1, kernel=sigmoid; total time=   2.3s\n",
      "[CV] END ...................C=100, gamma=0.1, kernel=sigmoid; total time=   2.4s\n",
      "[CV] END ...................C=100, gamma=0.1, kernel=sigmoid; total time=   2.2s\n",
      "[CV] END ......................C=100, gamma=0.01, kernel=rbf; total time=   4.8s\n",
      "[CV] END ......................C=100, gamma=0.01, kernel=rbf; total time=   4.7s\n",
      "[CV] END ......................C=100, gamma=0.01, kernel=rbf; total time=   5.0s\n",
      "[CV] END ......................C=100, gamma=0.01, kernel=rbf; total time=   4.8s\n",
      "[CV] END ......................C=100, gamma=0.01, kernel=rbf; total time=   4.8s\n",
      "[CV] END .....................C=100, gamma=0.01, kernel=poly; total time=   8.9s\n",
      "[CV] END .....................C=100, gamma=0.01, kernel=poly; total time=   9.1s\n",
      "[CV] END .....................C=100, gamma=0.01, kernel=poly; total time=   9.2s\n",
      "[CV] END .....................C=100, gamma=0.01, kernel=poly; total time=   9.2s\n",
      "[CV] END .....................C=100, gamma=0.01, kernel=poly; total time=   9.0s\n",
      "[CV] END ..................C=100, gamma=0.01, kernel=sigmoid; total time=   5.5s\n",
      "[CV] END ..................C=100, gamma=0.01, kernel=sigmoid; total time=   5.5s\n",
      "[CV] END ..................C=100, gamma=0.01, kernel=sigmoid; total time=   5.4s\n",
      "[CV] END ..................C=100, gamma=0.01, kernel=sigmoid; total time=   5.5s\n",
      "[CV] END ..................C=100, gamma=0.01, kernel=sigmoid; total time=   5.5s\n",
      "[CV] END .....................C=100, gamma=0.001, kernel=rbf; total time=   6.2s\n",
      "[CV] END .....................C=100, gamma=0.001, kernel=rbf; total time=   6.3s\n",
      "[CV] END .....................C=100, gamma=0.001, kernel=rbf; total time=   6.3s\n",
      "[CV] END .....................C=100, gamma=0.001, kernel=rbf; total time=   6.4s\n",
      "[CV] END .....................C=100, gamma=0.001, kernel=rbf; total time=   6.1s\n",
      "[CV] END ....................C=100, gamma=0.001, kernel=poly; total time=   2.2s\n",
      "[CV] END ....................C=100, gamma=0.001, kernel=poly; total time=   2.2s\n",
      "[CV] END ....................C=100, gamma=0.001, kernel=poly; total time=   2.3s\n",
      "[CV] END ....................C=100, gamma=0.001, kernel=poly; total time=   2.2s\n",
      "[CV] END ....................C=100, gamma=0.001, kernel=poly; total time=   2.3s\n",
      "[CV] END .................C=100, gamma=0.001, kernel=sigmoid; total time=   5.4s\n",
      "[CV] END .................C=100, gamma=0.001, kernel=sigmoid; total time=   5.3s\n",
      "[CV] END .................C=100, gamma=0.001, kernel=sigmoid; total time=   5.5s\n",
      "[CV] END .................C=100, gamma=0.001, kernel=sigmoid; total time=   5.4s\n",
      "[CV] END .................C=100, gamma=0.001, kernel=sigmoid; total time=   5.4s\n"
     ]
    },
    {
     "data": {
      "text/html": [
       "<style>#sk-container-id-1 {color: black;background-color: white;}#sk-container-id-1 pre{padding: 0;}#sk-container-id-1 div.sk-toggleable {background-color: white;}#sk-container-id-1 label.sk-toggleable__label {cursor: pointer;display: block;width: 100%;margin-bottom: 0;padding: 0.3em;box-sizing: border-box;text-align: center;}#sk-container-id-1 label.sk-toggleable__label-arrow:before {content: \"▸\";float: left;margin-right: 0.25em;color: #696969;}#sk-container-id-1 label.sk-toggleable__label-arrow:hover:before {color: black;}#sk-container-id-1 div.sk-estimator:hover label.sk-toggleable__label-arrow:before {color: black;}#sk-container-id-1 div.sk-toggleable__content {max-height: 0;max-width: 0;overflow: hidden;text-align: left;background-color: #f0f8ff;}#sk-container-id-1 div.sk-toggleable__content pre {margin: 0.2em;color: black;border-radius: 0.25em;background-color: #f0f8ff;}#sk-container-id-1 input.sk-toggleable__control:checked~div.sk-toggleable__content {max-height: 200px;max-width: 100%;overflow: auto;}#sk-container-id-1 input.sk-toggleable__control:checked~label.sk-toggleable__label-arrow:before {content: \"▾\";}#sk-container-id-1 div.sk-estimator input.sk-toggleable__control:checked~label.sk-toggleable__label {background-color: #d4ebff;}#sk-container-id-1 div.sk-label input.sk-toggleable__control:checked~label.sk-toggleable__label {background-color: #d4ebff;}#sk-container-id-1 input.sk-hidden--visually {border: 0;clip: rect(1px 1px 1px 1px);clip: rect(1px, 1px, 1px, 1px);height: 1px;margin: -1px;overflow: hidden;padding: 0;position: absolute;width: 1px;}#sk-container-id-1 div.sk-estimator {font-family: monospace;background-color: #f0f8ff;border: 1px dotted black;border-radius: 0.25em;box-sizing: border-box;margin-bottom: 0.5em;}#sk-container-id-1 div.sk-estimator:hover {background-color: #d4ebff;}#sk-container-id-1 div.sk-parallel-item::after {content: \"\";width: 100%;border-bottom: 1px solid gray;flex-grow: 1;}#sk-container-id-1 div.sk-label:hover label.sk-toggleable__label {background-color: #d4ebff;}#sk-container-id-1 div.sk-serial::before {content: \"\";position: absolute;border-left: 1px solid gray;box-sizing: border-box;top: 0;bottom: 0;left: 50%;z-index: 0;}#sk-container-id-1 div.sk-serial {display: flex;flex-direction: column;align-items: center;background-color: white;padding-right: 0.2em;padding-left: 0.2em;position: relative;}#sk-container-id-1 div.sk-item {position: relative;z-index: 1;}#sk-container-id-1 div.sk-parallel {display: flex;align-items: stretch;justify-content: center;background-color: white;position: relative;}#sk-container-id-1 div.sk-item::before, #sk-container-id-1 div.sk-parallel-item::before {content: \"\";position: absolute;border-left: 1px solid gray;box-sizing: border-box;top: 0;bottom: 0;left: 50%;z-index: -1;}#sk-container-id-1 div.sk-parallel-item {display: flex;flex-direction: column;z-index: 1;position: relative;background-color: white;}#sk-container-id-1 div.sk-parallel-item:first-child::after {align-self: flex-end;width: 50%;}#sk-container-id-1 div.sk-parallel-item:last-child::after {align-self: flex-start;width: 50%;}#sk-container-id-1 div.sk-parallel-item:only-child::after {width: 0;}#sk-container-id-1 div.sk-dashed-wrapped {border: 1px dashed gray;margin: 0 0.4em 0.5em 0.4em;box-sizing: border-box;padding-bottom: 0.4em;background-color: white;}#sk-container-id-1 div.sk-label label {font-family: monospace;font-weight: bold;display: inline-block;line-height: 1.2em;}#sk-container-id-1 div.sk-label-container {text-align: center;}#sk-container-id-1 div.sk-container {/* jupyter's `normalize.less` sets `[hidden] { display: none; }` but bootstrap.min.css set `[hidden] { display: none !important; }` so we also need the `!important` here to be able to override the default hidden behavior on the sphinx rendered scikit-learn.org. See: https://github.com/scikit-learn/scikit-learn/issues/21755 */display: inline-block !important;position: relative;}#sk-container-id-1 div.sk-text-repr-fallback {display: none;}</style><div id=\"sk-container-id-1\" class=\"sk-top-container\"><div class=\"sk-text-repr-fallback\"><pre>GridSearchCV(estimator=SVC(random_state=1234),\n",
       "             param_grid={&#x27;C&#x27;: [0.1, 1, 10, 100], &#x27;gamma&#x27;: [1, 0.1, 0.01, 0.001],\n",
       "                         &#x27;kernel&#x27;: [&#x27;rbf&#x27;, &#x27;poly&#x27;, &#x27;sigmoid&#x27;]},\n",
       "             verbose=2)</pre><b>In a Jupyter environment, please rerun this cell to show the HTML representation or trust the notebook. <br />On GitHub, the HTML representation is unable to render, please try loading this page with nbviewer.org.</b></div><div class=\"sk-container\" hidden><div class=\"sk-item sk-dashed-wrapped\"><div class=\"sk-label-container\"><div class=\"sk-label sk-toggleable\"><input class=\"sk-toggleable__control sk-hidden--visually\" id=\"sk-estimator-id-1\" type=\"checkbox\" ><label for=\"sk-estimator-id-1\" class=\"sk-toggleable__label sk-toggleable__label-arrow\">GridSearchCV</label><div class=\"sk-toggleable__content\"><pre>GridSearchCV(estimator=SVC(random_state=1234),\n",
       "             param_grid={&#x27;C&#x27;: [0.1, 1, 10, 100], &#x27;gamma&#x27;: [1, 0.1, 0.01, 0.001],\n",
       "                         &#x27;kernel&#x27;: [&#x27;rbf&#x27;, &#x27;poly&#x27;, &#x27;sigmoid&#x27;]},\n",
       "             verbose=2)</pre></div></div></div><div class=\"sk-parallel\"><div class=\"sk-parallel-item\"><div class=\"sk-item\"><div class=\"sk-label-container\"><div class=\"sk-label sk-toggleable\"><input class=\"sk-toggleable__control sk-hidden--visually\" id=\"sk-estimator-id-2\" type=\"checkbox\" ><label for=\"sk-estimator-id-2\" class=\"sk-toggleable__label sk-toggleable__label-arrow\">estimator: SVC</label><div class=\"sk-toggleable__content\"><pre>SVC(random_state=1234)</pre></div></div></div><div class=\"sk-serial\"><div class=\"sk-item\"><div class=\"sk-estimator sk-toggleable\"><input class=\"sk-toggleable__control sk-hidden--visually\" id=\"sk-estimator-id-3\" type=\"checkbox\" ><label for=\"sk-estimator-id-3\" class=\"sk-toggleable__label sk-toggleable__label-arrow\">SVC</label><div class=\"sk-toggleable__content\"><pre>SVC(random_state=1234)</pre></div></div></div></div></div></div></div></div></div></div>"
      ],
      "text/plain": [
       "GridSearchCV(estimator=SVC(random_state=1234),\n",
       "             param_grid={'C': [0.1, 1, 10, 100], 'gamma': [1, 0.1, 0.01, 0.001],\n",
       "                         'kernel': ['rbf', 'poly', 'sigmoid']},\n",
       "             verbose=2)"
      ]
     },
     "execution_count": 22,
     "metadata": {},
     "output_type": "execute_result"
    }
   ],
   "source": [
    "param_grid = {'C': [0.1,1, 10, 100], 'gamma': [1,0.1,0.01,0.001],'kernel': ['rbf', 'poly', 'sigmoid']}\n",
    "\n",
    "grid = GridSearchCV(SVC(random_state=1234),param_grid,verbose=2)\n",
    "grid.fit(X_train,y_train)"
   ]
  },
  {
   "cell_type": "code",
   "execution_count": 26,
   "id": "27b9cf7c",
   "metadata": {},
   "outputs": [
    {
     "data": {
      "text/plain": [
       "{'C': 10, 'gamma': 0.1, 'kernel': 'rbf'}"
      ]
     },
     "execution_count": 26,
     "metadata": {},
     "output_type": "execute_result"
    }
   ],
   "source": [
    "grid.best_params_"
   ]
  },
  {
   "cell_type": "code",
   "execution_count": 33,
   "id": "3aa00100",
   "metadata": {},
   "outputs": [
    {
     "name": "stdout",
     "output_type": "stream",
     "text": [
      "              precision    recall  f1-score   support\n",
      "\n",
      "           0       0.96      0.97      0.97       532\n",
      "           1       0.73      0.66      0.69        61\n",
      "\n",
      "    accuracy                           0.94       593\n",
      "   macro avg       0.84      0.81      0.83       593\n",
      "weighted avg       0.94      0.94      0.94       593\n",
      "\n"
     ]
    }
   ],
   "source": [
    "classifier = SVC(C=10, gamma= 0.1, kernel='rbf')\n",
    "classifier.fit(X_train, y_train)\n",
    "predictions = classifier.predict(X_test)\n",
    "\n",
    "print(classification_report(y_test, predictions))"
   ]
  },
  {
   "cell_type": "code",
   "execution_count": null,
   "id": "336e2259",
   "metadata": {},
   "outputs": [],
   "source": []
  },
  {
   "cell_type": "code",
   "execution_count": null,
   "id": "2f2e70b0",
   "metadata": {},
   "outputs": [],
   "source": []
  }
 ],
 "metadata": {
  "kernelspec": {
   "display_name": "Python 3.8.13 64-bit ('3.8.13')",
   "language": "python",
   "name": "python3"
  },
  "language_info": {
   "codemirror_mode": {
    "name": "ipython",
    "version": 3
   },
   "file_extension": ".py",
   "mimetype": "text/x-python",
   "name": "python",
   "nbconvert_exporter": "python",
   "pygments_lexer": "ipython3",
   "version": "3.8.13"
  },
  "vscode": {
   "interpreter": {
    "hash": "110cc1dee26208153f2972f08a2ad52b6a56238dc66d48e87fb757ef2996db56"
   }
  }
 },
 "nbformat": 4,
 "nbformat_minor": 5
}
